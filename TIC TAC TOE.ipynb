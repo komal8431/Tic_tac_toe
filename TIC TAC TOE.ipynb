{
 "cells": [
  {
   "cell_type": "code",
   "execution_count": 1,
   "id": "9026c5da",
   "metadata": {},
   "outputs": [
    {
     "name": "stdout",
     "output_type": "stream",
     "text": [
      "welcome to tic tac toe\n",
      " 0 | 1 | 2 \n",
      "---|---|---\n",
      " 3 | 4 | 5 \n",
      "---|---|---\n",
      " 6 | 7 | 8 \n",
      "x's chance\n"
     ]
    },
    {
     "name": "stdin",
     "output_type": "stream",
     "text": [
      "plese enter a value: 0\n"
     ]
    },
    {
     "name": "stdout",
     "output_type": "stream",
     "text": [
      " X | 1 | 2 \n",
      "---|---|---\n",
      " 3 | 4 | 5 \n",
      "---|---|---\n",
      " 6 | 7 | 8 \n",
      "o's chance\n"
     ]
    },
    {
     "name": "stdin",
     "output_type": "stream",
     "text": [
      "plese enter a value: 4\n"
     ]
    },
    {
     "name": "stdout",
     "output_type": "stream",
     "text": [
      " X | 1 | 2 \n",
      "---|---|---\n",
      " 3 | O | 5 \n",
      "---|---|---\n",
      " 6 | 7 | 8 \n",
      "x's chance\n"
     ]
    },
    {
     "name": "stdin",
     "output_type": "stream",
     "text": [
      "plese enter a value: 1\n"
     ]
    },
    {
     "name": "stdout",
     "output_type": "stream",
     "text": [
      " X | X | 2 \n",
      "---|---|---\n",
      " 3 | O | 5 \n",
      "---|---|---\n",
      " 6 | 7 | 8 \n",
      "o's chance\n"
     ]
    },
    {
     "name": "stdin",
     "output_type": "stream",
     "text": [
      "plese enter a value: 8\n"
     ]
    },
    {
     "name": "stdout",
     "output_type": "stream",
     "text": [
      " X | X | 2 \n",
      "---|---|---\n",
      " 3 | O | 5 \n",
      "---|---|---\n",
      " 6 | 7 | O \n",
      "x's chance\n"
     ]
    },
    {
     "name": "stdin",
     "output_type": "stream",
     "text": [
      "plese enter a value: 2\n"
     ]
    },
    {
     "name": "stdout",
     "output_type": "stream",
     "text": [
      "X won the match\n",
      "match over\n"
     ]
    }
   ],
   "source": [
    "def sum(a,b,c):\n",
    "    return a + b + c\n",
    "def printBoard(xstate,zstate):\n",
    "    zero='X' if xstate[0] else ('O' if zstate[0] else 0)\n",
    "    one='X' if xstate[1] else ('O' if zstate[1] else 1)\n",
    "    two='X' if xstate[2] else ('O' if zstate[2] else 2)\n",
    "    three='X' if xstate[3] else ('O' if zstate[3] else 3)\n",
    "    four='X' if xstate[4] else ('O' if zstate[4] else 4)\n",
    "    five='X' if xstate[5] else ('O' if zstate[5] else 5)\n",
    "    six='X' if xstate[6] else ('O' if zstate[6] else 6)\n",
    "    seven='X' if xstate[7] else ('O' if zstate[7] else 7)\n",
    "    eight='X' if xstate[8] else ('O' if zstate[8] else 8)\n",
    "    print(f\" {zero} | {one} | {two} \")\n",
    "    print(f\"---|---|---\")\n",
    "    print(f\" {three} | {four} | {five} \")\n",
    "    print(f\"---|---|---\")\n",
    "    print(f\" {six} | {seven} | {eight} \")\n",
    "def checkwin(xstate ,zstate):\n",
    "    wins = [[0,1,2],[3,4,5],[6,7,8],[0,3,6],[1,4,7],[2,5,8],[0,4,8],[2,4,6]]\n",
    "    for win in wins:\n",
    "        if (sum(xstate[win[0]],xstate[win[1]],xstate[win[2]]) == 3):\n",
    "            print(f\"X won the match\")\n",
    "            return 1\n",
    "        if (sum(zstate[win[0]],zstate[win[1]],zstate[win[2]]) == 3):\n",
    "            print(f\"O won the match\")\n",
    "            return 0\n",
    "    return -1\n",
    "if __name__ == \"__main__\":\n",
    "          xstate=[0,0,0,0,0,0,0,0,0]\n",
    "          zstate=[0,0,0,0,0,0,0,0,0]\n",
    "          turn=1 #1 for xand 0 for o\n",
    "          print(\"welcome to tic tac toe\")\n",
    "          while(True):\n",
    "            printBoard(xstate,zstate)\n",
    "            if(turn==1):\n",
    "                print(\"x's chance\")\n",
    "                value=int(input(\"plese enter a value:\"))\n",
    "                xstate[value] = 1\n",
    "            else:\n",
    "                print(\"o's chance\")\n",
    "                value=int(input(\"plese enter a value:\"))\n",
    "                zstate[value] = 1\n",
    "            cwin = checkwin(xstate,zstate)\n",
    "            if (cwin != -1):\n",
    "                print(\"match over\")\n",
    "                break\n",
    "            \n",
    "            turn = 1-turn\n",
    "            \n",
    "    \n"
   ]
  },
  {
   "cell_type": "code",
   "execution_count": 3,
   "id": "a4ff986a-805d-4af4-935a-42c2e5c7f561",
   "metadata": {},
   "outputs": [
    {
     "name": "stdout",
     "output_type": "stream",
     "text": [
      "  |   |  \n",
      "--+---+--\n",
      "  |   |  \n",
      "--+---+--\n",
      "  |   |  \n"
     ]
    },
    {
     "name": "stdin",
     "output_type": "stream",
     "text": [
      "Player X, choose (1-9):  1\n"
     ]
    },
    {
     "name": "stdout",
     "output_type": "stream",
     "text": [
      "X |   |  \n",
      "--+---+--\n",
      "  |   |  \n",
      "--+---+--\n",
      "  |   |  \n"
     ]
    },
    {
     "name": "stdin",
     "output_type": "stream",
     "text": [
      "Player O, choose (1-9):  9\n"
     ]
    },
    {
     "name": "stdout",
     "output_type": "stream",
     "text": [
      "X |   |  \n",
      "--+---+--\n",
      "  |   |  \n",
      "--+---+--\n",
      "  |   | O\n"
     ]
    },
    {
     "name": "stdin",
     "output_type": "stream",
     "text": [
      "Player X, choose (1-9):  2\n"
     ]
    },
    {
     "name": "stdout",
     "output_type": "stream",
     "text": [
      "X | X |  \n",
      "--+---+--\n",
      "  |   |  \n",
      "--+---+--\n",
      "  |   | O\n"
     ]
    },
    {
     "name": "stdin",
     "output_type": "stream",
     "text": [
      "Player O, choose (1-9):  6\n"
     ]
    },
    {
     "name": "stdout",
     "output_type": "stream",
     "text": [
      "X | X |  \n",
      "--+---+--\n",
      "  |   | O\n",
      "--+---+--\n",
      "  |   | O\n"
     ]
    },
    {
     "name": "stdin",
     "output_type": "stream",
     "text": [
      "Player X, choose (1-9):  3\n"
     ]
    },
    {
     "name": "stdout",
     "output_type": "stream",
     "text": [
      "X | X | X\n",
      "--+---+--\n",
      "  |   | O\n",
      "--+---+--\n",
      "  |   | O\n",
      "Player X wins!\n"
     ]
    }
   ],
   "source": [
    "# Simplest Tic-Tac-Toe in Python\n",
    "\n",
    "board = [' ']*9\n",
    "\n",
    "def print_board():\n",
    "    print(board[0], '|', board[1], '|', board[2])\n",
    "    print('--+---+--')\n",
    "    print(board[3], '|', board[4], '|', board[5])\n",
    "    print('--+---+--')\n",
    "    print(board[6], '|', board[7], '|', board[8])\n",
    "\n",
    "def check_winner(player):\n",
    "    combos = [(0,1,2), (3,4,5), (6,7,8), (0,3,6), (1,4,7), (2,5,8), (0,4,8), (2,4,6)]\n",
    "    return any(board[a] == board[b] == board[c] == player for a, b, c in combos)\n",
    "\n",
    "def play():\n",
    "    for turn in range(9):\n",
    "        print_board()\n",
    "        move = int(input(f\"Player {'XO'[turn%2]}, choose (1-9): \")) - 1\n",
    "        if board[move] == ' ':\n",
    "            board[move] = 'XO'[turn % 2]\n",
    "            if check_winner(board[move]):\n",
    "                print_board()\n",
    "                print(f\"Player {board[move]} wins!\")\n",
    "                return\n",
    "    print_board()\n",
    "    print(\"It's a tie!\")\n",
    "\n",
    "play()\n"
   ]
  },
  {
   "cell_type": "code",
   "execution_count": null,
   "id": "ef1dc2b0",
   "metadata": {},
   "outputs": [],
   "source": []
  }
 ],
 "metadata": {
  "kernelspec": {
   "display_name": "Python 3 (ipykernel)",
   "language": "python",
   "name": "python3"
  },
  "language_info": {
   "codemirror_mode": {
    "name": "ipython",
    "version": 3
   },
   "file_extension": ".py",
   "mimetype": "text/x-python",
   "name": "python",
   "nbconvert_exporter": "python",
   "pygments_lexer": "ipython3",
   "version": "3.11.7"
  }
 },
 "nbformat": 4,
 "nbformat_minor": 5
}
